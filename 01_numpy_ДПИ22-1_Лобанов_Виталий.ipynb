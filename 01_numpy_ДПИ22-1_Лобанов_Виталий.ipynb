{
 "cells": [
  {
   "cell_type": "code",
   "execution_count": 1,
   "id": "e07a7736",
   "metadata": {},
   "outputs": [],
   "source": [
    "import numpy as np"
   ]
  },
  {
   "cell_type": "code",
   "execution_count": 3,
   "id": "f345fe8f",
   "metadata": {},
   "outputs": [],
   "source": [
    "a = np.loadtxt('minutes_n_ingredients.csv', dtype = 'int32', delimiter=',', skiprows=1)"
   ]
  },
  {
   "cell_type": "code",
   "execution_count": 6,
   "id": "ea2f56da",
   "metadata": {},
   "outputs": [],
   "source": [
    "#задание 1"
   ]
  },
  {
   "cell_type": "code",
   "execution_count": 5,
   "id": "01795f3a",
   "metadata": {},
   "outputs": [
    {
     "data": {
      "text/plain": [
       "array([[127244,     60,     16],\n",
       "       [ 23891,     25,      7],\n",
       "       [ 94746,     10,      6],\n",
       "       [ 67660,      5,      6],\n",
       "       [157911,     60,     14]])"
      ]
     },
     "execution_count": 5,
     "metadata": {},
     "output_type": "execute_result"
    }
   ],
   "source": [
    "a[0:5, :]"
   ]
  },
  {
   "cell_type": "code",
   "execution_count": 7,
   "id": "6870aad0",
   "metadata": {
    "scrolled": true
   },
   "outputs": [],
   "source": [
    "#задание 2"
   ]
  },
  {
   "cell_type": "code",
   "execution_count": 11,
   "id": "c7c1a059",
   "metadata": {},
   "outputs": [
    {
     "data": {
      "text/plain": [
       "21601.00169"
      ]
     },
     "execution_count": 11,
     "metadata": {},
     "output_type": "execute_result"
    }
   ],
   "source": [
    "np.mean(a[:, 1]) # среднее значение второго столбца"
   ]
  },
  {
   "cell_type": "code",
   "execution_count": 10,
   "id": "b5474f75",
   "metadata": {},
   "outputs": [
    {
     "data": {
      "text/plain": [
       "9.05528"
      ]
     },
     "execution_count": 10,
     "metadata": {},
     "output_type": "execute_result"
    }
   ],
   "source": [
    "np.mean(a[:, 2]) # среднее значение третьего столбца"
   ]
  },
  {
   "cell_type": "code",
   "execution_count": 13,
   "id": "a5ec5095",
   "metadata": {},
   "outputs": [
    {
     "data": {
      "text/plain": [
       "0"
      ]
     },
     "execution_count": 13,
     "metadata": {},
     "output_type": "execute_result"
    }
   ],
   "source": [
    "a[:, 1].min() #минимум второго столбца\n"
   ]
  },
  {
   "cell_type": "code",
   "execution_count": 14,
   "id": "3843c55d",
   "metadata": {},
   "outputs": [
    {
     "data": {
      "text/plain": [
       "2147483647"
      ]
     },
     "execution_count": 14,
     "metadata": {},
     "output_type": "execute_result"
    }
   ],
   "source": [
    "a[:, 1].max() #максимум второго столбца"
   ]
  },
  {
   "cell_type": "code",
   "execution_count": 15,
   "id": "82184d6a",
   "metadata": {},
   "outputs": [
    {
     "data": {
      "text/plain": [
       "1"
      ]
     },
     "execution_count": 15,
     "metadata": {},
     "output_type": "execute_result"
    }
   ],
   "source": [
    "a[:, 2].min() #минимум третьего столбца"
   ]
  },
  {
   "cell_type": "code",
   "execution_count": 16,
   "id": "5e0cc9c7",
   "metadata": {},
   "outputs": [
    {
     "data": {
      "text/plain": [
       "39"
      ]
     },
     "execution_count": 16,
     "metadata": {},
     "output_type": "execute_result"
    }
   ],
   "source": [
    "a[:, 2].max() #максимум третьго столбца"
   ]
  },
  {
   "cell_type": "code",
   "execution_count": 19,
   "id": "6c07f154",
   "metadata": {},
   "outputs": [
    {
     "data": {
      "text/plain": [
       "40.0"
      ]
     },
     "execution_count": 19,
     "metadata": {},
     "output_type": "execute_result"
    }
   ],
   "source": [
    "np.median(a[:, 1]) #медиана второго столбца"
   ]
  },
  {
   "cell_type": "code",
   "execution_count": 20,
   "id": "3d629f93",
   "metadata": {},
   "outputs": [
    {
     "data": {
      "text/plain": [
       "9.0"
      ]
     },
     "execution_count": 20,
     "metadata": {},
     "output_type": "execute_result"
    }
   ],
   "source": [
    "np.median(a[:, 2]) #медиана третьего столбца"
   ]
  },
  {
   "cell_type": "code",
   "execution_count": 24,
   "id": "49747fbe",
   "metadata": {},
   "outputs": [
    {
     "data": {
      "text/plain": [
       "65.0"
      ]
     },
     "execution_count": 24,
     "metadata": {},
     "output_type": "execute_result"
    }
   ],
   "source": [
    "np.quantile(a[:, 1], 0.75) #третье задание"
   ]
  },
  {
   "cell_type": "code",
   "execution_count": 38,
   "id": "f735a25b",
   "metadata": {},
   "outputs": [],
   "source": [
    "b = a[:, 1]"
   ]
  },
  {
   "cell_type": "code",
   "execution_count": 45,
   "id": "49a7f5c7",
   "metadata": {},
   "outputs": [
    {
     "data": {
      "text/plain": [
       "479"
      ]
     },
     "execution_count": 45,
     "metadata": {},
     "output_type": "execute_result"
    }
   ],
   "source": [
    "np.sum(b == 0) #количество нулевых вхождений (четвертое задание)"
   ]
  },
  {
   "cell_type": "code",
   "execution_count": 46,
   "id": "6c5c35de",
   "metadata": {},
   "outputs": [
    {
     "data": {
      "text/plain": [
       "array([ 60,  25,  10, ...,  65,   5, 140])"
      ]
     },
     "execution_count": 46,
     "metadata": {},
     "output_type": "execute_result"
    }
   ],
   "source": [
    "b"
   ]
  },
  {
   "cell_type": "code",
   "execution_count": 47,
   "id": "cf1db3be",
   "metadata": {},
   "outputs": [],
   "source": [
    "c = b.copy()"
   ]
  },
  {
   "cell_type": "code",
   "execution_count": 48,
   "id": "a2e46762",
   "metadata": {},
   "outputs": [
    {
     "data": {
      "text/plain": [
       "array([ 60,  25,  10, ...,  65,   5, 140])"
      ]
     },
     "execution_count": 48,
     "metadata": {},
     "output_type": "execute_result"
    }
   ],
   "source": [
    "c"
   ]
  },
  {
   "cell_type": "code",
   "execution_count": 51,
   "id": "21c96218",
   "metadata": {},
   "outputs": [],
   "source": [
    "c[c==0] = 1 #замена всех нулей на еденицы"
   ]
  },
  {
   "cell_type": "code",
   "execution_count": 52,
   "id": "11a488ed",
   "metadata": {},
   "outputs": [
    {
     "data": {
      "text/plain": [
       "0"
      ]
     },
     "execution_count": 52,
     "metadata": {},
     "output_type": "execute_result"
    }
   ],
   "source": [
    "np.sum(c == 0) "
   ]
  },
  {
   "cell_type": "code",
   "execution_count": 53,
   "id": "77c3a56f",
   "metadata": {},
   "outputs": [
    {
     "data": {
      "text/plain": [
       "716"
      ]
     },
     "execution_count": 53,
     "metadata": {},
     "output_type": "execute_result"
    }
   ],
   "source": [
    "np.sum(c == 1)"
   ]
  },
  {
   "cell_type": "code",
   "execution_count": 54,
   "id": "5ccf1f02",
   "metadata": {},
   "outputs": [
    {
     "data": {
      "text/plain": [
       "100000"
      ]
     },
     "execution_count": 54,
     "metadata": {},
     "output_type": "execute_result"
    }
   ],
   "source": [
    "len (np.unique(a[:,0])) # количество уникальных рецептов (задание пять)"
   ]
  },
  {
   "cell_type": "code",
   "execution_count": 55,
   "id": "5b47da60",
   "metadata": {},
   "outputs": [
    {
     "data": {
      "text/plain": [
       "37"
      ]
     },
     "execution_count": 55,
     "metadata": {},
     "output_type": "execute_result"
    }
   ],
   "source": [
    "len (np.unique(a[:,2])) # количество уникальных количеств ингредиентов (задание шесть)"
   ]
  },
  {
   "cell_type": "code",
   "execution_count": 56,
   "id": "c25c70a2",
   "metadata": {},
   "outputs": [
    {
     "data": {
      "text/plain": [
       "array([ 1,  2,  3,  4,  5,  6,  7,  8,  9, 10, 11, 12, 13, 14, 15, 16, 17,\n",
       "       18, 19, 20, 21, 22, 23, 24, 25, 26, 27, 28, 29, 30, 31, 32, 33, 34,\n",
       "       35, 37, 39])"
      ]
     },
     "execution_count": 56,
     "metadata": {},
     "output_type": "execute_result"
    }
   ],
   "source": [
    "np.unique(a[:,2]) #уникальные количества ингредиентов"
   ]
  },
  {
   "cell_type": "code",
   "execution_count": 59,
   "id": "44daa3c7",
   "metadata": {},
   "outputs": [
    {
     "data": {
      "text/plain": [
       "17262"
      ]
     },
     "execution_count": 59,
     "metadata": {},
     "output_type": "execute_result"
    }
   ],
   "source": [
    "np.sum(a[:,2] < 6)"
   ]
  },
  {
   "cell_type": "code",
   "execution_count": 64,
   "id": "78d204fe",
   "metadata": {},
   "outputs": [],
   "source": [
    "compare_mask = a[:,2] < 6"
   ]
  },
  {
   "cell_type": "code",
   "execution_count": 65,
   "id": "da461476",
   "metadata": {},
   "outputs": [],
   "source": [
    "g = a[compare_mask]"
   ]
  },
  {
   "cell_type": "code",
   "execution_count": 66,
   "id": "544eeb3d",
   "metadata": {},
   "outputs": [
    {
     "data": {
      "text/plain": [
       "array([[446597,     15,      5],\n",
       "       [204134,      5,      3],\n",
       "       [ 25623,      6,      4],\n",
       "       ...,\n",
       "       [ 52088,     60,      5],\n",
       "       [128811,     15,      4],\n",
       "       [370915,      5,      4]])"
      ]
     },
     "execution_count": 66,
     "metadata": {},
     "output_type": "execute_result"
    }
   ],
   "source": [
    "g # версия массива, содержащая информацию только о рецептах, состоящих не более чем из 5 ингредиентов(задание 7)"
   ]
  },
  {
   "cell_type": "code",
   "execution_count": 71,
   "id": "cda16d40",
   "metadata": {},
   "outputs": [],
   "source": [
    "p = a[:,2] / c"
   ]
  },
  {
   "cell_type": "code",
   "execution_count": 72,
   "id": "cd817986",
   "metadata": {},
   "outputs": [
    {
     "data": {
      "text/plain": [
       "array([0.26666667, 0.28      , 0.6       , ..., 0.23076923, 0.8       ,\n",
       "       0.1       ])"
      ]
     },
     "execution_count": 72,
     "metadata": {},
     "output_type": "execute_result"
    }
   ],
   "source": [
    "p # количество ингредиентов на минуту каждого рецепта( ноль заменен на единицу)"
   ]
  },
  {
   "cell_type": "code",
   "execution_count": 73,
   "id": "f76ba9af",
   "metadata": {},
   "outputs": [
    {
     "data": {
      "text/plain": [
       "24.0"
      ]
     },
     "execution_count": 73,
     "metadata": {},
     "output_type": "execute_result"
    }
   ],
   "source": [
    "p.max() # максимальное количество ингредиентов на минуту"
   ]
  },
  {
   "cell_type": "code",
   "execution_count": 87,
   "id": "9dc34caa",
   "metadata": {},
   "outputs": [],
   "source": [
    "sorted = np.sort(a)[::-1]"
   ]
  },
  {
   "cell_type": "code",
   "execution_count": 94,
   "id": "9030e4b4",
   "metadata": {},
   "outputs": [],
   "source": [
    "sorted = a[a[:, 1]. argsort ()[::-1]]"
   ]
  },
  {
   "cell_type": "code",
   "execution_count": 95,
   "id": "ff7dff5f",
   "metadata": {},
   "outputs": [],
   "source": [
    "z = sorted[:100, :]"
   ]
  },
  {
   "cell_type": "code",
   "execution_count": 98,
   "id": "66db2844",
   "metadata": {},
   "outputs": [
    {
     "data": {
      "text/plain": [
       "6.61"
      ]
     },
     "execution_count": 98,
     "metadata": {},
     "output_type": "execute_result"
    }
   ],
   "source": [
    "np.mean(z[:, 2]) # среднее количество ингредиентов для топ100 рецептов по продолжительности (задание 9)"
   ]
  },
  {
   "cell_type": "code",
   "execution_count": null,
   "id": "3c74a14c",
   "metadata": {},
   "outputs": [],
   "source": [
    "import random"
   ]
  },
  {
   "cell_type": "code",
   "execution_count": 118,
   "id": "3fed7f3c",
   "metadata": {},
   "outputs": [],
   "source": [
    "i=0 # десятое задание"
   ]
  },
  {
   "cell_type": "code",
   "execution_count": 119,
   "id": "0e976291",
   "metadata": {},
   "outputs": [
    {
     "name": "stdout",
     "output_type": "stream",
     "text": [
      "[80092    35     8]\n",
      "[32438    10     6]\n",
      "[95100    80    11]\n",
      "[169983     25      8]\n",
      "[263928    125     10]\n",
      "[462281     22      7]\n",
      "[117255     75      6]\n",
      "[180072     40      5]\n",
      "[113931     25     11]\n",
      "[116964     80     10]\n"
     ]
    }
   ],
   "source": [
    "while i< 10:\n",
    "    random_line = random.choice(a)\n",
    "    print(random_line)\n",
    "    i+=1"
   ]
  },
  {
   "cell_type": "raw",
   "id": "4b85c00f",
   "metadata": {},
   "source": []
  },
  {
   "cell_type": "code",
   "execution_count": 125,
   "id": "675fec7d",
   "metadata": {},
   "outputs": [],
   "source": [
    "new_mask = a[:,2] < np.mean(a[:, 2])"
   ]
  },
  {
   "cell_type": "code",
   "execution_count": 126,
   "id": "245af737",
   "metadata": {},
   "outputs": [
    {
     "data": {
      "text/plain": [
       "58802"
      ]
     },
     "execution_count": 126,
     "metadata": {},
     "output_type": "execute_result"
    }
   ],
   "source": [
    "len(a[new_mask]) # задание 11"
   ]
  },
  {
   "cell_type": "code",
   "execution_count": 127,
   "id": "7543521f",
   "metadata": {},
   "outputs": [
    {
     "data": {
      "text/plain": [
       "0.58802"
      ]
     },
     "execution_count": 127,
     "metadata": {},
     "output_type": "execute_result"
    }
   ],
   "source": [
    "len(a[new_mask]) / len(a) # процент рецептов где количество ингредиентов меньше среднего"
   ]
  },
  {
   "cell_type": "code",
   "execution_count": null,
   "id": "348e07bb",
   "metadata": {},
   "outputs": [],
   "source": []
  }
 ],
 "metadata": {
  "kernelspec": {
   "display_name": "Python 3 (ipykernel)",
   "language": "python",
   "name": "python3"
  },
  "language_info": {
   "codemirror_mode": {
    "name": "ipython",
    "version": 3
   },
   "file_extension": ".py",
   "mimetype": "text/x-python",
   "name": "python",
   "nbconvert_exporter": "python",
   "pygments_lexer": "ipython3",
   "version": "3.9.13"
  }
 },
 "nbformat": 4,
 "nbformat_minor": 5
}
